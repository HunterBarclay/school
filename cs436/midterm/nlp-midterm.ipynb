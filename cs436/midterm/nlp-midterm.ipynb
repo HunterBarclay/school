{
 "cells": [
  {
   "cell_type": "markdown",
   "id": "b8e510e3-b27f-47bd-aa88-0561fec5d9bc",
   "metadata": {},
   "source": [
    "# NLP Midterm\n",
    "- Hunter Barclay\n",
    "- Feb. 16th, 2025"
   ]
  },
  {
   "cell_type": "markdown",
   "id": "2b6c96ae-16ee-4572-9073-7d015783afdc",
   "metadata": {},
   "source": [
    "## My Approach\n",
    "I'm going to tokenize names. I'm keeping stop words and capitalization, and instead I'm lemmatizing as the only other form of normalization. This way I can keep propernouns and hopefully better identify patterns in names, such as saying \"The\" something for movies and matching common puncuation used in other types of names. I'm assuming the tokens are independent of each other."
   ]
  },
  {
   "cell_type": "code",
   "execution_count": 2,
   "id": "5617cc78-ed9a-4971-b41e-24239f614cea",
   "metadata": {},
   "outputs": [],
   "source": [
    "import numpy as np\n",
    "import pandas as pd\n",
    "import nltk"
   ]
  },
  {
   "cell_type": "code",
   "execution_count": 3,
   "id": "7815fd4e-7f12-4ea9-9f8e-77a03956d7d6",
   "metadata": {},
   "outputs": [
    {
     "data": {
      "text/html": [
       "<div>\n",
       "<style scoped>\n",
       "    .dataframe tbody tr th:only-of-type {\n",
       "        vertical-align: middle;\n",
       "    }\n",
       "\n",
       "    .dataframe tbody tr th {\n",
       "        vertical-align: top;\n",
       "    }\n",
       "\n",
       "    .dataframe thead th {\n",
       "        text-align: right;\n",
       "    }\n",
       "</style>\n",
       "<table border=\"1\" class=\"dataframe\">\n",
       "  <thead>\n",
       "    <tr style=\"text-align: right;\">\n",
       "      <th></th>\n",
       "      <th>type</th>\n",
       "      <th>name</th>\n",
       "    </tr>\n",
       "  </thead>\n",
       "  <tbody>\n",
       "    <tr>\n",
       "      <th>0</th>\n",
       "      <td>drug</td>\n",
       "      <td>Dilotab</td>\n",
       "    </tr>\n",
       "    <tr>\n",
       "      <th>1</th>\n",
       "      <td>movie</td>\n",
       "      <td>Beastie Boys: Live in Glasgow</td>\n",
       "    </tr>\n",
       "    <tr>\n",
       "      <th>2</th>\n",
       "      <td>person</td>\n",
       "      <td>Michelle Ford-Eriksson</td>\n",
       "    </tr>\n",
       "    <tr>\n",
       "      <th>3</th>\n",
       "      <td>place</td>\n",
       "      <td>Ramsbury</td>\n",
       "    </tr>\n",
       "    <tr>\n",
       "      <th>4</th>\n",
       "      <td>place</td>\n",
       "      <td>Market Bosworth</td>\n",
       "    </tr>\n",
       "    <tr>\n",
       "      <th>...</th>\n",
       "      <td>...</td>\n",
       "      <td>...</td>\n",
       "    </tr>\n",
       "    <tr>\n",
       "      <th>20996</th>\n",
       "      <td>movie</td>\n",
       "      <td>Old Pals</td>\n",
       "    </tr>\n",
       "    <tr>\n",
       "      <th>20997</th>\n",
       "      <td>place</td>\n",
       "      <td>Mailly-le-Château</td>\n",
       "    </tr>\n",
       "    <tr>\n",
       "      <th>20998</th>\n",
       "      <td>place</td>\n",
       "      <td>Sudbury</td>\n",
       "    </tr>\n",
       "    <tr>\n",
       "      <th>20999</th>\n",
       "      <td>place</td>\n",
       "      <td>West Wickham</td>\n",
       "    </tr>\n",
       "    <tr>\n",
       "      <th>21000</th>\n",
       "      <td>drug</td>\n",
       "      <td>Ocusporin</td>\n",
       "    </tr>\n",
       "  </tbody>\n",
       "</table>\n",
       "<p>21001 rows × 2 columns</p>\n",
       "</div>"
      ],
      "text/plain": [
       "         type                           name\n",
       "0        drug                        Dilotab\n",
       "1       movie  Beastie Boys: Live in Glasgow\n",
       "2      person         Michelle Ford-Eriksson\n",
       "3       place                       Ramsbury\n",
       "4       place                Market Bosworth\n",
       "...       ...                            ...\n",
       "20996   movie                       Old Pals\n",
       "20997   place              Mailly-le-Château\n",
       "20998   place                        Sudbury\n",
       "20999   place                   West Wickham\n",
       "21000    drug                      Ocusporin\n",
       "\n",
       "[21001 rows x 2 columns]"
      ]
     },
     "execution_count": 3,
     "metadata": {},
     "output_type": "execute_result"
    }
   ],
   "source": [
    "data = pd.read_csv('pnp-train-2.txt',delimiter='\\t',encoding='latin-1', # utf8 encoding didn't work for this\n",
    "                  names=['type','name'])\n",
    "data"
   ]
  },
  {
   "cell_type": "code",
   "execution_count": 399,
   "id": "fd1954e7-58b6-43fe-b21a-f0a612a91039",
   "metadata": {},
   "outputs": [],
   "source": [
    "test = data.sample(frac=0.05,random_state=100)\n",
    "train = data.drop(test.index)"
   ]
  },
  {
   "cell_type": "code",
   "execution_count": 400,
   "id": "32723a70-9419-400e-9daa-a94c608feee9",
   "metadata": {},
   "outputs": [
    {
     "name": "stdout",
     "output_type": "stream",
     "text": [
      "['Lorem', 'ipsum', 'dolor', 'sit', 'amet']\n"
     ]
    }
   ],
   "source": [
    "def Tokenize(phrase=''):\n",
    "    return nltk.word_tokenize(phrase)\n",
    "\n",
    "print(Tokenize('Lorem ipsum dolor sit amet'))"
   ]
  },
  {
   "cell_type": "code",
   "execution_count": 401,
   "id": "599b4fa0-9cfa-49b1-ad15-ca127ffe728b",
   "metadata": {},
   "outputs": [
    {
     "name": "stderr",
     "output_type": "stream",
     "text": [
      "100%|█████████████████████████████████████████████████████████████| 19951/19951 [00:31<00:00, 638.24it/s]\n"
     ]
    }
   ],
   "source": [
    "# Get token counts\n",
    "# https://www.geeksforgeeks.org/python-matrix-elements-frequencies-counter/\n",
    "from collections import Counter\n",
    "from tqdm import tqdm\n",
    "\n",
    "all_tokens = [Tokenize(n) for n in train.name]\n",
    "token_counter = sum(tqdm(map(Counter, all_tokens), total=len(all_tokens)), Counter())"
   ]
  },
  {
   "cell_type": "code",
   "execution_count": 402,
   "id": "49f31774-5d5e-428b-a282-ec05af097b7d",
   "metadata": {},
   "outputs": [],
   "source": [
    "ptoken_smooth = 0.00000001\n",
    "def Ptoken(token=''):\n",
    "    count = token_counter[token]\n",
    "    return ptoken_smooth if count == 0 else count / token_counter.total()"
   ]
  },
  {
   "cell_type": "code",
   "execution_count": 403,
   "id": "d2505f60-c312-4095-8f32-682508ef4ac6",
   "metadata": {},
   "outputs": [
    {
     "data": {
      "text/plain": [
       "1.0"
      ]
     },
     "execution_count": 403,
     "metadata": {},
     "output_type": "execute_result"
    }
   ],
   "source": [
    "sum([Ptoken(t) for t in token_counter.keys()])"
   ]
  },
  {
   "cell_type": "code",
   "execution_count": 404,
   "id": "3702b4f5-06ab-44b1-bd15-8e715ac285d9",
   "metadata": {},
   "outputs": [],
   "source": [
    "type_counter = Counter(train.type)\n",
    "ptype_smooth = 0.000000001\n",
    "def Ptype(t=''):\n",
    "    count = type_counter[t]\n",
    "    return ptype_smooth if count == 0 else count / type_counter.total()"
   ]
  },
  {
   "cell_type": "code",
   "execution_count": 405,
   "id": "c91f61c6-3010-4473-a5b3-be06a3cd0a0a",
   "metadata": {},
   "outputs": [
    {
     "data": {
      "text/plain": [
       "1.0"
      ]
     },
     "execution_count": 405,
     "metadata": {},
     "output_type": "execute_result"
    }
   ],
   "source": [
    "sum([Ptype(t) for t in set(train.type)])"
   ]
  },
  {
   "cell_type": "code",
   "execution_count": 406,
   "id": "7e94b597-0c56-429e-98da-2e0a7ed89cf1",
   "metadata": {},
   "outputs": [],
   "source": [
    "tokens_per_type = {}\n",
    "for t in set(train.type):\n",
    "    tokens_per_type[t] = []\n",
    "    for name in train.loc[train.type == t].name:\n",
    "        tokens_per_type[t] += Tokenize(name)\n",
    "token_counter_per_type = {k: Counter(v) for k, v in tokens_per_type.items()}\n",
    "\n",
    "ptoken_type_type_smooth = 0.00000000001\n",
    "ptoken_type_token_smooth = 0.00000001\n",
    "def Ptoken_type(token='', t=''):\n",
    "    if t not in token_counter_per_type:\n",
    "        return ptoken_type_type_smooth\n",
    "    count = token_counter_per_type[t][token]\n",
    "    return ptoken_type_token_smooth if count == 0 else count / token_counter_per_type[t].total()"
   ]
  },
  {
   "cell_type": "code",
   "execution_count": 407,
   "id": "4aa13b5d-093b-46f1-b6f9-d9950e8b0c9e",
   "metadata": {
    "scrolled": true
   },
   "outputs": [
    {
     "data": {
      "text/plain": [
       "0.001771703366236396"
      ]
     },
     "execution_count": 407,
     "metadata": {},
     "output_type": "execute_result"
    }
   ],
   "source": [
    "Ptoken_type('Market', 'place')"
   ]
  },
  {
   "cell_type": "code",
   "execution_count": 408,
   "id": "565e1d13-717c-49dc-9789-fe4899017bb9",
   "metadata": {},
   "outputs": [
    {
     "data": {
      "text/plain": [
       "1e-08"
      ]
     },
     "execution_count": 408,
     "metadata": {},
     "output_type": "execute_result"
    }
   ],
   "source": [
    "Ptoken_type('Kuuga', 'place')"
   ]
  },
  {
   "cell_type": "code",
   "execution_count": 409,
   "id": "57425d3c-b678-4d49-a0ee-97780b2f01b3",
   "metadata": {},
   "outputs": [],
   "source": [
    "def Guess(name=''):\n",
    "    tokens = Tokenize(name)\n",
    "    return max([(t, np.prod([Ptoken_type(token, t) for token in tokens])) for t in type_counter.keys()], key=lambda x: x[1])"
   ]
  },
  {
   "cell_type": "code",
   "execution_count": 410,
   "id": "65bd6434-709a-453f-856f-356da98fa28b",
   "metadata": {},
   "outputs": [
    {
     "data": {
      "text/plain": [
       "('place', 1.3452569219714472e-06)"
      ]
     },
     "execution_count": 410,
     "metadata": {},
     "output_type": "execute_result"
    }
   ],
   "source": [
    "Guess('Market Hatfield')"
   ]
  },
  {
   "cell_type": "code",
   "execution_count": 411,
   "id": "f3837133-ebdb-48d9-ab3c-e8613042964c",
   "metadata": {},
   "outputs": [],
   "source": [
    "def Accuracy(df):\n",
    "    return sum([Guess(row['name'])[0] == row.type for i, row in tqdm(df.iterrows(), total=len(df))]) / len(df)"
   ]
  },
  {
   "cell_type": "code",
   "execution_count": 412,
   "id": "072940ee-f32c-4d54-aaed-92f10fc429ef",
   "metadata": {},
   "outputs": [
    {
     "name": "stderr",
     "output_type": "stream",
     "text": [
      "100%|████████████████████████████████████████████████████████████| 19951/19951 [00:02<00:00, 9858.83it/s]"
     ]
    },
    {
     "name": "stdout",
     "output_type": "stream",
     "text": [
      "Training Data Accuracy: 99.17%\n"
     ]
    },
    {
     "name": "stderr",
     "output_type": "stream",
     "text": [
      "\n"
     ]
    }
   ],
   "source": [
    "trainAcc = Accuracy(train)\n",
    "print(f'Training Data Accuracy: {trainAcc*100:.2f}%')"
   ]
  },
  {
   "cell_type": "code",
   "execution_count": 413,
   "id": "c8551722-c5ce-47af-8462-628cbabc2d7e",
   "metadata": {},
   "outputs": [
    {
     "name": "stderr",
     "output_type": "stream",
     "text": [
      "100%|█████████████████████████████████████████████████████████████| 1050/1050 [00:00<00:00, 11463.64it/s]"
     ]
    },
    {
     "name": "stdout",
     "output_type": "stream",
     "text": [
      "Testing Data Accuracy: 73.05%\n"
     ]
    },
    {
     "name": "stderr",
     "output_type": "stream",
     "text": [
      "\n"
     ]
    }
   ],
   "source": [
    "testAcc = Accuracy(test)\n",
    "print(f'Testing Data Accuracy: {testAcc*100:.2f}%')"
   ]
  },
  {
   "cell_type": "markdown",
   "id": "4154d9e0-ac4e-4985-abfb-567aa7c5b62b",
   "metadata": {},
   "source": [
    "# Questions and Answers\n",
    "### What are the two baselines for this particular task? How did you determine the two baselines?\n",
    "\n",
    "The baselines for this task are our training set and our testing set. I determined this by breaking the main dataset into two, with the test being the smaller one. In particular, I tried to maximize the training set so I went with a 19:1 ratio.\n",
    "\n",
    "### What is the accuracy of your classifier?\n",
    "\n",
    "The accuracy of my classifier on the testing set is 73.05%.\n",
    "\n",
    "### What kind of normalization did you apply? Why does it make sense to do that for this particular task? How does your accuracy change if you don’t apply that normalization strategy?\n",
    "\n",
    "I used tokenization for this model. I tried a couple different options, but tokenization (by word/puncuation specifically) was the only one that resulted in significant change. I makes sense because with names you encounter a number of words that aren't seen anywhere else. The work around this, tokenization can take advantage of multiple of the same parts of names. Example being the word Company or Inc appearing in the name of a company.\n",
    "\n",
    "Without it, the accuracy was dismal when tested against the testing dataset (like 20 something percent). I tried Lemmatization but it added nothing, same with setting all the letters in each token to lower case. I avoided removing stop words considering the use of stop words in some names over other could be a strong indicator of the type of name.\n",
    "\n",
    "### What modeling approach did you use? I.e., how did you model the probability of a name (a sequence of words)?\n",
    "\n",
    "I created the following probability distribution:\n",
    "\n",
    "### $$\\Pi_{i=1}^{n}P(\\text{token}_i|\\text{type})$$\n",
    "\n",
    "From there, given a name, I got the $P(\\text{name}|\\text{type})$ for each type and returned the maximum for a guess.\n",
    "\n",
    "When constructing $P(\\text{token}_i|\\text{type})$, I tokenized all the names, then made individual counters for each type from there, counting tokens rather than just names. This way I don't get blinded when encountering names that I haven't encountered yet.\n",
    "\n",
    "### What assumptions does your model make?\n",
    "\n",
    "The model makes the assumption that each token is independent of each other. I'd imagine this wouldn't be true is at least a few cases in the dataset. This can mostly be seen in the fact that the location of a token within a name makes no impact on the guesses. \"Overlook Hotel\" and \"Hotel Overlook\" result in the same probability, yet aren't the same.\n",
    "\n",
    "### Create a confusion matrix of your model’s predictions/guesses vs. the real types. What do you notice?\n",
    "\n",
    "**See Confusion Matrix and classification report below**\n",
    "\n",
    "Drug is a little over active, likely due to the use of generic adjectives, verbs, and nouns in the names of the of drugs. That being said, it's recall is perfect for drugs. Company is remarkably good, likely due to unique tokens such as \"Inc\" and \"Company\". Place is actually so bad, likely due to the amount of names containing just one or two very unique tokens."
   ]
  },
  {
   "cell_type": "code",
   "execution_count": 414,
   "id": "b4b78203-e498-4d9c-9376-4ab6cb7bdc31",
   "metadata": {},
   "outputs": [
    {
     "name": "stderr",
     "output_type": "stream",
     "text": [
      "100%|██████████████████████████████████████████████████████████████| 1050/1050 [00:00<00:00, 8518.99it/s]\n"
     ]
    },
    {
     "data": {
      "text/plain": [
       "<sklearn.metrics._plot.confusion_matrix.ConfusionMatrixDisplay at 0x1675a1190>"
      ]
     },
     "execution_count": 414,
     "metadata": {},
     "output_type": "execute_result"
    },
    {
     "data": {
      "image/png": "[encoded data removed]",
      "text/plain": [
       "<Figure size 640x480 with 2 Axes>"
      ]
     },
     "metadata": {},
     "output_type": "display_data"
    }
   ],
   "source": [
    "from sklearn.metrics import confusion_matrix, classification_report, ConfusionMatrixDisplay\n",
    "import seaborn as sns\n",
    "import matplotlib.pyplot as plt\n",
    "\n",
    "test_guesses = [(Guess(row['name'])[0], row.type) for i, row in tqdm(test.iterrows(), total=len(test))]\n",
    "res_df = pd.DataFrame(test_guesses, columns=['pred', 'true'])\n",
    "mat = confusion_matrix(res_df.true, res_df.pred, labels=list(type_counter.keys()))\n",
    "disp = ConfusionMatrixDisplay(confusion_matrix=mat, display_labels=type_counter.keys())\n",
    "disp.plot()"
   ]
  },
  {
   "cell_type": "code",
   "execution_count": 415,
   "id": "16f943b7-94a1-4a18-bbf8-6a5635b0629b",
   "metadata": {},
   "outputs": [
    {
     "name": "stdout",
     "output_type": "stream",
     "text": [
      "              precision    recall  f1-score   support\n",
      "\n",
      "     company       0.88      0.97      0.92       144\n",
      "        drug       0.51      0.99      0.67       235\n",
      "       movie       0.92      0.73      0.82       308\n",
      "      person       0.91      0.81      0.86       191\n",
      "       place       0.76      0.09      0.17       172\n",
      "\n",
      "    accuracy                           0.73      1050\n",
      "   macro avg       0.80      0.72      0.69      1050\n",
      "weighted avg       0.80      0.73      0.70      1050\n",
      "\n"
     ]
    }
   ],
   "source": [
    "print(classification_report(res_df.true, res_df.pred, zero_division=0.0))"
   ]
  }
 ],
 "metadata": {
  "kernelspec": {
   "display_name": "Python 3 (ipykernel)",
   "language": "python",
   "name": "python3"
  },
  "language_info": {
   "codemirror_mode": {
    "name": "ipython",
    "version": 3
   },
   "file_extension": ".py",
   "mimetype": "text/x-python",
   "name": "python",
   "nbconvert_exporter": "python",
   "pygments_lexer": "ipython3",
   "version": "3.12.9"
  }
 },
 "nbformat": 4,
 "nbformat_minor": 5
}
