{
 "cells": [
  {
   "cell_type": "code",
   "execution_count": 1,
   "id": "e630fb1e",
   "metadata": {},
   "outputs": [],
   "source": [
    "import pandas as pd\n",
    "from tqdm import tqdm\n",
    "import time\n",
    "from collections import Counter as ctr"
   ]
  },
  {
   "cell_type": "code",
   "execution_count": 2,
   "id": "3b31a01e",
   "metadata": {},
   "outputs": [
    {
     "name": "stderr",
     "output_type": "stream",
     "text": [
      "100%|██████████████████████████████████████████████████████████████████| 100/100 [00:20<00:00,  4.89it/s]\n"
     ]
    }
   ],
   "source": [
    "for i in tqdm(range(100)):\n",
    "    time.sleep(0.2)"
   ]
  },
  {
   "cell_type": "code",
   "execution_count": 22,
   "id": "0ad076cb",
   "metadata": {},
   "outputs": [],
   "source": [
    "data = pd.read_csv('train.txt', delimiter=' ', names=['word', 'tag', 'tag2'])\n",
    "test = data.sample(frac=0.2,random_state=100)\n",
    "train = data.drop(test.index)"
   ]
  },
  {
   "cell_type": "code",
   "execution_count": 23,
   "id": "00f1fc8b",
   "metadata": {},
   "outputs": [
    {
     "data": {
      "text/html": [
       "<div>\n",
       "<style scoped>\n",
       "    .dataframe tbody tr th:only-of-type {\n",
       "        vertical-align: middle;\n",
       "    }\n",
       "\n",
       "    .dataframe tbody tr th {\n",
       "        vertical-align: top;\n",
       "    }\n",
       "\n",
       "    .dataframe thead th {\n",
       "        text-align: right;\n",
       "    }\n",
       "</style>\n",
       "<table border=\"1\" class=\"dataframe\">\n",
       "  <thead>\n",
       "    <tr style=\"text-align: right;\">\n",
       "      <th></th>\n",
       "      <th>word</th>\n",
       "      <th>tag</th>\n",
       "      <th>tag2</th>\n",
       "    </tr>\n",
       "  </thead>\n",
       "  <tbody>\n",
       "    <tr>\n",
       "      <th>0</th>\n",
       "      <td>Confidence</td>\n",
       "      <td>NN</td>\n",
       "      <td>B-NP</td>\n",
       "    </tr>\n",
       "    <tr>\n",
       "      <th>1</th>\n",
       "      <td>in</td>\n",
       "      <td>IN</td>\n",
       "      <td>B-PP</td>\n",
       "    </tr>\n",
       "    <tr>\n",
       "      <th>2</th>\n",
       "      <td>the</td>\n",
       "      <td>DT</td>\n",
       "      <td>B-NP</td>\n",
       "    </tr>\n",
       "    <tr>\n",
       "      <th>3</th>\n",
       "      <td>pound</td>\n",
       "      <td>NN</td>\n",
       "      <td>I-NP</td>\n",
       "    </tr>\n",
       "    <tr>\n",
       "      <th>4</th>\n",
       "      <td>is</td>\n",
       "      <td>VBZ</td>\n",
       "      <td>B-VP</td>\n",
       "    </tr>\n",
       "    <tr>\n",
       "      <th>...</th>\n",
       "      <td>...</td>\n",
       "      <td>...</td>\n",
       "      <td>...</td>\n",
       "    </tr>\n",
       "    <tr>\n",
       "      <th>211721</th>\n",
       "      <td>them</td>\n",
       "      <td>PRP</td>\n",
       "      <td>B-NP</td>\n",
       "    </tr>\n",
       "    <tr>\n",
       "      <th>211722</th>\n",
       "      <td>to</td>\n",
       "      <td>TO</td>\n",
       "      <td>B-PP</td>\n",
       "    </tr>\n",
       "    <tr>\n",
       "      <th>211724</th>\n",
       "      <td>Francisco</td>\n",
       "      <td>NNP</td>\n",
       "      <td>I-NP</td>\n",
       "    </tr>\n",
       "    <tr>\n",
       "      <th>211725</th>\n",
       "      <td>instead</td>\n",
       "      <td>RB</td>\n",
       "      <td>B-ADVP</td>\n",
       "    </tr>\n",
       "    <tr>\n",
       "      <th>211726</th>\n",
       "      <td>.</td>\n",
       "      <td>.</td>\n",
       "      <td>O</td>\n",
       "    </tr>\n",
       "  </tbody>\n",
       "</table>\n",
       "<p>169382 rows × 3 columns</p>\n",
       "</div>"
      ],
      "text/plain": [
       "              word  tag    tag2\n",
       "0       Confidence   NN    B-NP\n",
       "1               in   IN    B-PP\n",
       "2              the   DT    B-NP\n",
       "3            pound   NN    I-NP\n",
       "4               is  VBZ    B-VP\n",
       "...            ...  ...     ...\n",
       "211721        them  PRP    B-NP\n",
       "211722          to   TO    B-PP\n",
       "211724   Francisco  NNP    I-NP\n",
       "211725     instead   RB  B-ADVP\n",
       "211726           .    .       O\n",
       "\n",
       "[169382 rows x 3 columns]"
      ]
     },
     "execution_count": 23,
     "metadata": {},
     "output_type": "execute_result"
    }
   ],
   "source": [
    "train"
   ]
  },
  {
   "cell_type": "code",
   "execution_count": 24,
   "id": "b32e6fc3",
   "metadata": {},
   "outputs": [
    {
     "data": {
      "text/plain": [
       "(44,\n",
       " ['#',\n",
       "  '.',\n",
       "  ':',\n",
       "  'CC',\n",
       "  'JJ',\n",
       "  'VB',\n",
       "  '$',\n",
       "  'POS',\n",
       "  '(',\n",
       "  'UH',\n",
       "  'EX',\n",
       "  'NNP',\n",
       "  'WP$',\n",
       "  'VBZ',\n",
       "  'PRP',\n",
       "  'VBD',\n",
       "  'MD',\n",
       "  'VBN',\n",
       "  'VBP',\n",
       "  'JJR',\n",
       "  'WRB',\n",
       "  ',',\n",
       "  ')',\n",
       "  'RP',\n",
       "  'NN',\n",
       "  'RB',\n",
       "  'JJS',\n",
       "  'VBG',\n",
       "  'NNPS',\n",
       "  \"''\",\n",
       "  'FW',\n",
       "  'PDT',\n",
       "  'RBS',\n",
       "  'TO',\n",
       "  'CD',\n",
       "  'SYM',\n",
       "  'WDT',\n",
       "  'DT',\n",
       "  'IN',\n",
       "  '``',\n",
       "  'WP',\n",
       "  'PRP$',\n",
       "  'NNS',\n",
       "  'RBR'])"
      ]
     },
     "execution_count": 24,
     "metadata": {},
     "output_type": "execute_result"
    }
   ],
   "source": [
    "tags = list(set(train.tag))\n",
    "total = len(train)\n",
    "smoother = float(1e-5)\n",
    "\n",
    "len(tags), tags"
   ]
  },
  {
   "cell_type": "markdown",
   "id": "fd9cb0b1",
   "metadata": {},
   "source": [
    "### Estimate Transition Probabilities $P(T_i|T_{i-1})$"
   ]
  },
  {
   "cell_type": "code",
   "execution_count": null,
   "id": "bb0e0f86",
   "metadata": {},
   "outputs": [],
   "source": []
  },
  {
   "cell_type": "markdown",
   "id": "2c5757bb",
   "metadata": {},
   "source": [
    "### Estimate Emission Probabilities $P(T_i|W_{i-1})$"
   ]
  },
  {
   "cell_type": "code",
   "execution_count": 25,
   "id": "13e76ffe",
   "metadata": {},
   "outputs": [],
   "source": [
    "#P(W|T)\n",
    "word_tag_counts = {}\n",
    "word_tag_totals = {}\n",
    "for tag in tags:\n",
    "    sub_train = train[train.tag == tag]\n",
    "    word_tag_counts[tag] = ctr(sub_train.word)\n",
    "    word_tag_totals[tag] = sum(word_tag_counts[tag].values())\n",
    "\n",
    "def Pwt(W='', T=''):\n",
    "    if W not in word_tag_counts[T]:\n",
    "        return smoother\n",
    "    return word_tag_counts[T][W] / word_tag_totals[T]\n",
    "    \n",
    "    \n",
    "#P(T)\n",
    "tag_counts = ctr(train.tag)\n",
    "def Ptag(T=''):\n",
    "    return tag_counts[T] / total\n",
    "\n",
    "# P(W)\n",
    "word_counts = ctr(train.word)\n",
    "def Pword(W=''):\n",
    "    if W not in word_counts:\n",
    "        return smoother\n",
    "    return word_counts[W] / total\n",
    "\n",
    "def Ptw(T='', W=''):\n",
    "    return Pwt(W, T) * Ptag(T) / Pword(W)"
   ]
  },
  {
   "cell_type": "code",
   "execution_count": 26,
   "id": "08275fef",
   "metadata": {},
   "outputs": [
    {
     "data": {
      "text/plain": [
       "0.08630787214698138"
      ]
     },
     "execution_count": 26,
     "metadata": {},
     "output_type": "execute_result"
    }
   ],
   "source": [
    "Ptag(T='DT')"
   ]
  },
  {
   "cell_type": "code",
   "execution_count": 27,
   "id": "6fc3b494",
   "metadata": {},
   "outputs": [
    {
     "data": {
      "text/plain": [
       "1e-05"
      ]
     },
     "execution_count": 27,
     "metadata": {},
     "output_type": "execute_result"
    }
   ],
   "source": [
    "Pword(W='thebigllama')"
   ]
  },
  {
   "cell_type": "code",
   "execution_count": 28,
   "id": "cd8343b2",
   "metadata": {},
   "outputs": [
    {
     "data": {
      "text/plain": [
       "0.5001710103290239"
      ]
     },
     "execution_count": 28,
     "metadata": {},
     "output_type": "execute_result"
    }
   ],
   "source": [
    "Pwt(\"the\", \"DT\")"
   ]
  },
  {
   "cell_type": "code",
   "execution_count": 29,
   "id": "11f10398",
   "metadata": {},
   "outputs": [
    {
     "data": {
      "text/plain": [
       "0.998497883381128"
      ]
     },
     "execution_count": 29,
     "metadata": {},
     "output_type": "execute_result"
    }
   ],
   "source": [
    "Ptw(\"DT\", \"the\")"
   ]
  },
  {
   "cell_type": "code",
   "execution_count": 30,
   "id": "e31baa41",
   "metadata": {},
   "outputs": [],
   "source": [
    "def Pall_tags(word):\n",
    "    return {t:Ptw(T=t, W=word) for t in tags}"
   ]
  },
  {
   "cell_type": "code",
   "execution_count": 31,
   "id": "d998eb7f",
   "metadata": {},
   "outputs": [],
   "source": [
    "ethe = Pall_tags('the')"
   ]
  },
  {
   "cell_type": "code",
   "execution_count": 32,
   "id": "82ec79c1",
   "metadata": {},
   "outputs": [
    {
     "data": {
      "text/plain": [
       "'DT'"
      ]
     },
     "execution_count": 32,
     "metadata": {},
     "output_type": "execute_result"
    }
   ],
   "source": [
    "max(ethe, key=ethe.get)"
   ]
  },
  {
   "cell_type": "markdown",
   "id": "a4f646c8",
   "metadata": {},
   "source": [
    "### Greedy Decoder"
   ]
  },
  {
   "cell_type": "code",
   "execution_count": 33,
   "id": "8d797bff",
   "metadata": {},
   "outputs": [],
   "source": [
    "example_sentence = ['the', 'dog', 'plays']"
   ]
  },
  {
   "cell_type": "code",
   "execution_count": 34,
   "id": "2b7f931f",
   "metadata": {},
   "outputs": [
    {
     "name": "stdout",
     "output_type": "stream",
     "text": [
      "the DT\n",
      "dog NN\n",
      "plays VBZ\n"
     ]
    }
   ],
   "source": [
    "for word in example_sentence:\n",
    "    emission = Pall_tags(word)\n",
    "    max_tag = max(emission, key=emission.get)\n",
    "    print(word, max_tag)\n",
    "    "
   ]
  },
  {
   "cell_type": "code",
   "execution_count": 35,
   "id": "76d66ee1",
   "metadata": {},
   "outputs": [
    {
     "name": "stderr",
     "output_type": "stream",
     "text": [
      "169382it [00:03, 48216.75it/s]\n"
     ]
    }
   ],
   "source": [
    "guesses = []\n",
    "for i,row in tqdm(train.iterrows()):\n",
    "    word=row['word']\n",
    "    tag = row['tag']\n",
    "    emission = Pall_tags(word)\n",
    "    max_tag = max(emission, key=emission.get)\n",
    "    guesses.append(max_tag)"
   ]
  },
  {
   "cell_type": "code",
   "execution_count": 36,
   "id": "8d7214bc",
   "metadata": {},
   "outputs": [],
   "source": [
    "train['guess'] = guesses"
   ]
  },
  {
   "cell_type": "code",
   "execution_count": 37,
   "id": "3f4e62b1",
   "metadata": {},
   "outputs": [
    {
     "data": {
      "text/plain": [
       "0.9652560484585139"
      ]
     },
     "execution_count": 37,
     "metadata": {},
     "output_type": "execute_result"
    }
   ],
   "source": [
    "sum(train.guess == train.tag) / total"
   ]
  },
  {
   "cell_type": "code",
   "execution_count": 38,
   "id": "e789338a-e0c7-4737-8216-7722a3d8e8c0",
   "metadata": {},
   "outputs": [
    {
     "name": "stderr",
     "output_type": "stream",
     "text": [
      "100%|█████████████████████████████████████████████████████████| 169382/169382 [00:03<00:00, 45291.61it/s]\n"
     ]
    },
    {
     "data": {
      "text/plain": [
       "0.9652560484585139"
      ]
     },
     "execution_count": 38,
     "metadata": {},
     "output_type": "execute_result"
    }
   ],
   "source": [
    "def Guess(word):\n",
    "    emission = Pall_tags(word)\n",
    "    max_tag = max(emission, key=emission.get)\n",
    "    return max_tag\n",
    "\n",
    "def Accuracy(df):\n",
    "    return sum([Guess(row['word']) == row.tag for i, row in tqdm(df.iterrows(), total=len(df))]) / len(df)\n",
    "\n",
    "Accuracy(train)"
   ]
  },
  {
   "cell_type": "code",
   "execution_count": 39,
   "id": "c5ee90ce-fd7f-471c-8a85-d425ed9ad170",
   "metadata": {},
   "outputs": [
    {
     "name": "stderr",
     "output_type": "stream",
     "text": [
      "100%|███████████████████████████████████████████████████████████| 42345/42345 [00:00<00:00, 45032.06it/s]\n"
     ]
    },
    {
     "data": {
      "text/plain": [
       "0.9204156334868343"
      ]
     },
     "execution_count": 39,
     "metadata": {},
     "output_type": "execute_result"
    }
   ],
   "source": [
    "Accuracy(test)"
   ]
  },
  {
   "cell_type": "code",
   "execution_count": 40,
   "id": "5078f9cb",
   "metadata": {},
   "outputs": [],
   "source": [
    "train['ptag'] = train['tag'].shift(1)"
   ]
  },
  {
   "cell_type": "code",
   "execution_count": 94,
   "id": "6271d316",
   "metadata": {},
   "outputs": [
    {
     "data": {
      "text/html": [
       "<div>\n",
       "<style scoped>\n",
       "    .dataframe tbody tr th:only-of-type {\n",
       "        vertical-align: middle;\n",
       "    }\n",
       "\n",
       "    .dataframe tbody tr th {\n",
       "        vertical-align: top;\n",
       "    }\n",
       "\n",
       "    .dataframe thead th {\n",
       "        text-align: right;\n",
       "    }\n",
       "</style>\n",
       "<table border=\"1\" class=\"dataframe\">\n",
       "  <thead>\n",
       "    <tr style=\"text-align: right;\">\n",
       "      <th></th>\n",
       "      <th>word</th>\n",
       "      <th>tag</th>\n",
       "      <th>tag2</th>\n",
       "      <th>guess</th>\n",
       "      <th>ptag</th>\n",
       "    </tr>\n",
       "  </thead>\n",
       "  <tbody>\n",
       "    <tr>\n",
       "      <th>0</th>\n",
       "      <td>Confidence</td>\n",
       "      <td>NN</td>\n",
       "      <td>B-NP</td>\n",
       "      <td>NN</td>\n",
       "      <td>None</td>\n",
       "    </tr>\n",
       "    <tr>\n",
       "      <th>1</th>\n",
       "      <td>in</td>\n",
       "      <td>IN</td>\n",
       "      <td>B-PP</td>\n",
       "      <td>IN</td>\n",
       "      <td>NN</td>\n",
       "    </tr>\n",
       "    <tr>\n",
       "      <th>2</th>\n",
       "      <td>the</td>\n",
       "      <td>DT</td>\n",
       "      <td>B-NP</td>\n",
       "      <td>DT</td>\n",
       "      <td>IN</td>\n",
       "    </tr>\n",
       "    <tr>\n",
       "      <th>3</th>\n",
       "      <td>pound</td>\n",
       "      <td>NN</td>\n",
       "      <td>I-NP</td>\n",
       "      <td>NN</td>\n",
       "      <td>DT</td>\n",
       "    </tr>\n",
       "    <tr>\n",
       "      <th>4</th>\n",
       "      <td>is</td>\n",
       "      <td>VBZ</td>\n",
       "      <td>B-VP</td>\n",
       "      <td>VBZ</td>\n",
       "      <td>NN</td>\n",
       "    </tr>\n",
       "    <tr>\n",
       "      <th>...</th>\n",
       "      <td>...</td>\n",
       "      <td>...</td>\n",
       "      <td>...</td>\n",
       "      <td>...</td>\n",
       "      <td>...</td>\n",
       "    </tr>\n",
       "    <tr>\n",
       "      <th>211722</th>\n",
       "      <td>to</td>\n",
       "      <td>TO</td>\n",
       "      <td>B-PP</td>\n",
       "      <td>TO</td>\n",
       "      <td>PRP</td>\n",
       "    </tr>\n",
       "    <tr>\n",
       "      <th>211723</th>\n",
       "      <td>San</td>\n",
       "      <td>NNP</td>\n",
       "      <td>B-NP</td>\n",
       "      <td>NNP</td>\n",
       "      <td>TO</td>\n",
       "    </tr>\n",
       "    <tr>\n",
       "      <th>211724</th>\n",
       "      <td>Francisco</td>\n",
       "      <td>NNP</td>\n",
       "      <td>I-NP</td>\n",
       "      <td>NNP</td>\n",
       "      <td>NNP</td>\n",
       "    </tr>\n",
       "    <tr>\n",
       "      <th>211725</th>\n",
       "      <td>instead</td>\n",
       "      <td>RB</td>\n",
       "      <td>B-ADVP</td>\n",
       "      <td>RB</td>\n",
       "      <td>NNP</td>\n",
       "    </tr>\n",
       "    <tr>\n",
       "      <th>211726</th>\n",
       "      <td>.</td>\n",
       "      <td>.</td>\n",
       "      <td>O</td>\n",
       "      <td>.</td>\n",
       "      <td>RB</td>\n",
       "    </tr>\n",
       "  </tbody>\n",
       "</table>\n",
       "<p>211727 rows × 5 columns</p>\n",
       "</div>"
      ],
      "text/plain": [
       "              word  tag    tag2 guess  ptag\n",
       "0       Confidence   NN    B-NP    NN  None\n",
       "1               in   IN    B-PP    IN    NN\n",
       "2              the   DT    B-NP    DT    IN\n",
       "3            pound   NN    I-NP    NN    DT\n",
       "4               is  VBZ    B-VP   VBZ    NN\n",
       "...            ...  ...     ...   ...   ...\n",
       "211722          to   TO    B-PP    TO   PRP\n",
       "211723         San  NNP    B-NP   NNP    TO\n",
       "211724   Francisco  NNP    I-NP   NNP   NNP\n",
       "211725     instead   RB  B-ADVP    RB   NNP\n",
       "211726           .    .       O     .    RB\n",
       "\n",
       "[211727 rows x 5 columns]"
      ]
     },
     "execution_count": 94,
     "metadata": {},
     "output_type": "execute_result"
    }
   ],
   "source": [
    "train"
   ]
  },
  {
   "cell_type": "code",
   "execution_count": null,
   "id": "111024bb",
   "metadata": {},
   "outputs": [],
   "source": []
  }
 ],
 "metadata": {
  "kernelspec": {
   "display_name": "Python 3 (ipykernel)",
   "language": "python",
   "name": "python3"
  },
  "language_info": {
   "codemirror_mode": {
    "name": "ipython",
    "version": 3
   },
   "file_extension": ".py",
   "mimetype": "text/x-python",
   "name": "python",
   "nbconvert_exporter": "python",
   "pygments_lexer": "ipython3",
   "version": "3.12.9"
  }
 },
 "nbformat": 4,
 "nbformat_minor": 5
}
