{
 "cells": [
  {
   "cell_type": "code",
   "execution_count": 16,
   "id": "206218e3-e010-4318-b99a-59f7296b18fc",
   "metadata": {},
   "outputs": [],
   "source": [
    "import pandas as pd\n",
    "from collections import Counter\n",
    "from tqdm import tqdm"
   ]
  },
  {
   "cell_type": "code",
   "execution_count": 189,
   "id": "c54359b7-a9ee-4d4d-92b1-ae6bc3fad2f8",
   "metadata": {},
   "outputs": [],
   "source": [
    "train = pd.read_csv('train.txt', delimiter=' ', names=['word', 'tag', 'tag2'])\n",
    "test = pd.read_csv('test.txt', delimiter=' ', names=['word', 'tag', 'tag2'])\n",
    "\n",
    "# Shifting the tags back to get previous tags.\n",
    "# Assuming that None should actually be period.\n",
    "train['prev_tag'] = train.tag.shift(1).map(lambda x: '.' if x == None else x)\n",
    "test['prev_tag'] = test.tag.shift(1).map(lambda x: '.' if x == None else x)"
   ]
  },
  {
   "cell_type": "code",
   "execution_count": 190,
   "id": "832bbe2c-a554-4287-a850-347c4b928c33",
   "metadata": {},
   "outputs": [
    {
     "data": {
      "text/html": [
       "<div>\n",
       "<style scoped>\n",
       "    .dataframe tbody tr th:only-of-type {\n",
       "        vertical-align: middle;\n",
       "    }\n",
       "\n",
       "    .dataframe tbody tr th {\n",
       "        vertical-align: top;\n",
       "    }\n",
       "\n",
       "    .dataframe thead th {\n",
       "        text-align: right;\n",
       "    }\n",
       "</style>\n",
       "<table border=\"1\" class=\"dataframe\">\n",
       "  <thead>\n",
       "    <tr style=\"text-align: right;\">\n",
       "      <th></th>\n",
       "      <th>word</th>\n",
       "      <th>tag</th>\n",
       "      <th>tag2</th>\n",
       "      <th>prev_tag</th>\n",
       "    </tr>\n",
       "  </thead>\n",
       "  <tbody>\n",
       "    <tr>\n",
       "      <th>0</th>\n",
       "      <td>Rockwell</td>\n",
       "      <td>NNP</td>\n",
       "      <td>B-NP</td>\n",
       "      <td>.</td>\n",
       "    </tr>\n",
       "    <tr>\n",
       "      <th>1</th>\n",
       "      <td>International</td>\n",
       "      <td>NNP</td>\n",
       "      <td>I-NP</td>\n",
       "      <td>NNP</td>\n",
       "    </tr>\n",
       "    <tr>\n",
       "      <th>2</th>\n",
       "      <td>Corp.</td>\n",
       "      <td>NNP</td>\n",
       "      <td>I-NP</td>\n",
       "      <td>NNP</td>\n",
       "    </tr>\n",
       "    <tr>\n",
       "      <th>3</th>\n",
       "      <td>'s</td>\n",
       "      <td>POS</td>\n",
       "      <td>B-NP</td>\n",
       "      <td>NNP</td>\n",
       "    </tr>\n",
       "    <tr>\n",
       "      <th>4</th>\n",
       "      <td>Tulsa</td>\n",
       "      <td>NNP</td>\n",
       "      <td>I-NP</td>\n",
       "      <td>POS</td>\n",
       "    </tr>\n",
       "    <tr>\n",
       "      <th>...</th>\n",
       "      <td>...</td>\n",
       "      <td>...</td>\n",
       "      <td>...</td>\n",
       "      <td>...</td>\n",
       "    </tr>\n",
       "    <tr>\n",
       "      <th>47372</th>\n",
       "      <td>according</td>\n",
       "      <td>VBG</td>\n",
       "      <td>B-PP</td>\n",
       "      <td>,</td>\n",
       "    </tr>\n",
       "    <tr>\n",
       "      <th>47373</th>\n",
       "      <td>to</td>\n",
       "      <td>TO</td>\n",
       "      <td>B-PP</td>\n",
       "      <td>VBG</td>\n",
       "    </tr>\n",
       "    <tr>\n",
       "      <th>47374</th>\n",
       "      <td>Mr.</td>\n",
       "      <td>NNP</td>\n",
       "      <td>B-NP</td>\n",
       "      <td>TO</td>\n",
       "    </tr>\n",
       "    <tr>\n",
       "      <th>47375</th>\n",
       "      <td>Harlow</td>\n",
       "      <td>NNP</td>\n",
       "      <td>I-NP</td>\n",
       "      <td>NNP</td>\n",
       "    </tr>\n",
       "    <tr>\n",
       "      <th>47376</th>\n",
       "      <td>.</td>\n",
       "      <td>.</td>\n",
       "      <td>O</td>\n",
       "      <td>NNP</td>\n",
       "    </tr>\n",
       "  </tbody>\n",
       "</table>\n",
       "<p>47377 rows × 4 columns</p>\n",
       "</div>"
      ],
      "text/plain": [
       "                word  tag  tag2 prev_tag\n",
       "0           Rockwell  NNP  B-NP        .\n",
       "1      International  NNP  I-NP      NNP\n",
       "2              Corp.  NNP  I-NP      NNP\n",
       "3                 's  POS  B-NP      NNP\n",
       "4              Tulsa  NNP  I-NP      POS\n",
       "...              ...  ...   ...      ...\n",
       "47372      according  VBG  B-PP        ,\n",
       "47373             to   TO  B-PP      VBG\n",
       "47374            Mr.  NNP  B-NP       TO\n",
       "47375         Harlow  NNP  I-NP      NNP\n",
       "47376              .    .     O      NNP\n",
       "\n",
       "[47377 rows x 4 columns]"
      ]
     },
     "execution_count": 190,
     "metadata": {},
     "output_type": "execute_result"
    }
   ],
   "source": [
    "test"
   ]
  },
  {
   "cell_type": "code",
   "execution_count": 191,
   "id": "fd576b67-757c-439f-9af5-b260ef4172f7",
   "metadata": {},
   "outputs": [
    {
     "data": {
      "text/html": [
       "<div>\n",
       "<style scoped>\n",
       "    .dataframe tbody tr th:only-of-type {\n",
       "        vertical-align: middle;\n",
       "    }\n",
       "\n",
       "    .dataframe tbody tr th {\n",
       "        vertical-align: top;\n",
       "    }\n",
       "\n",
       "    .dataframe thead th {\n",
       "        text-align: right;\n",
       "    }\n",
       "</style>\n",
       "<table border=\"1\" class=\"dataframe\">\n",
       "  <thead>\n",
       "    <tr style=\"text-align: right;\">\n",
       "      <th></th>\n",
       "      <th>word</th>\n",
       "      <th>tag</th>\n",
       "      <th>tag2</th>\n",
       "      <th>prev_tag</th>\n",
       "    </tr>\n",
       "  </thead>\n",
       "  <tbody>\n",
       "    <tr>\n",
       "      <th>0</th>\n",
       "      <td>Confidence</td>\n",
       "      <td>NN</td>\n",
       "      <td>B-NP</td>\n",
       "      <td>.</td>\n",
       "    </tr>\n",
       "    <tr>\n",
       "      <th>1</th>\n",
       "      <td>in</td>\n",
       "      <td>IN</td>\n",
       "      <td>B-PP</td>\n",
       "      <td>NN</td>\n",
       "    </tr>\n",
       "    <tr>\n",
       "      <th>2</th>\n",
       "      <td>the</td>\n",
       "      <td>DT</td>\n",
       "      <td>B-NP</td>\n",
       "      <td>IN</td>\n",
       "    </tr>\n",
       "    <tr>\n",
       "      <th>3</th>\n",
       "      <td>pound</td>\n",
       "      <td>NN</td>\n",
       "      <td>I-NP</td>\n",
       "      <td>DT</td>\n",
       "    </tr>\n",
       "    <tr>\n",
       "      <th>4</th>\n",
       "      <td>is</td>\n",
       "      <td>VBZ</td>\n",
       "      <td>B-VP</td>\n",
       "      <td>NN</td>\n",
       "    </tr>\n",
       "    <tr>\n",
       "      <th>...</th>\n",
       "      <td>...</td>\n",
       "      <td>...</td>\n",
       "      <td>...</td>\n",
       "      <td>...</td>\n",
       "    </tr>\n",
       "    <tr>\n",
       "      <th>211722</th>\n",
       "      <td>to</td>\n",
       "      <td>TO</td>\n",
       "      <td>B-PP</td>\n",
       "      <td>PRP</td>\n",
       "    </tr>\n",
       "    <tr>\n",
       "      <th>211723</th>\n",
       "      <td>San</td>\n",
       "      <td>NNP</td>\n",
       "      <td>B-NP</td>\n",
       "      <td>TO</td>\n",
       "    </tr>\n",
       "    <tr>\n",
       "      <th>211724</th>\n",
       "      <td>Francisco</td>\n",
       "      <td>NNP</td>\n",
       "      <td>I-NP</td>\n",
       "      <td>NNP</td>\n",
       "    </tr>\n",
       "    <tr>\n",
       "      <th>211725</th>\n",
       "      <td>instead</td>\n",
       "      <td>RB</td>\n",
       "      <td>B-ADVP</td>\n",
       "      <td>NNP</td>\n",
       "    </tr>\n",
       "    <tr>\n",
       "      <th>211726</th>\n",
       "      <td>.</td>\n",
       "      <td>.</td>\n",
       "      <td>O</td>\n",
       "      <td>RB</td>\n",
       "    </tr>\n",
       "  </tbody>\n",
       "</table>\n",
       "<p>211727 rows × 4 columns</p>\n",
       "</div>"
      ],
      "text/plain": [
       "              word  tag    tag2 prev_tag\n",
       "0       Confidence   NN    B-NP        .\n",
       "1               in   IN    B-PP       NN\n",
       "2              the   DT    B-NP       IN\n",
       "3            pound   NN    I-NP       DT\n",
       "4               is  VBZ    B-VP       NN\n",
       "...            ...  ...     ...      ...\n",
       "211722          to   TO    B-PP      PRP\n",
       "211723         San  NNP    B-NP       TO\n",
       "211724   Francisco  NNP    I-NP      NNP\n",
       "211725     instead   RB  B-ADVP      NNP\n",
       "211726           .    .       O       RB\n",
       "\n",
       "[211727 rows x 4 columns]"
      ]
     },
     "execution_count": 191,
     "metadata": {},
     "output_type": "execute_result"
    }
   ],
   "source": [
    "train"
   ]
  },
  {
   "cell_type": "markdown",
   "id": "2430b7a5-c6b3-44f9-a399-2c3a0d950d08",
   "metadata": {},
   "source": [
    "## Estimate Emission Probability\n",
    "$$P(T_i|W_i)=\\frac{P(W_i|T_i)P(T_i)}{P(W_i)}$$\n",
    "\n",
    "$$P(W_i|T_i)=\\frac{\\text{\\# times word and type appear together}}{\\text{\\# of times type appears}}$$\n",
    "\n",
    "$$P(T)=\\frac{\\text{\\# instances of type}}{\\text{\\# entries}}$$\n",
    "\n",
    "$$P(W)=\\frac{\\text{\\# instances of word}}{\\text{\\# entries}}$$"
   ]
  },
  {
   "cell_type": "code",
   "execution_count": 98,
   "id": "406e1965-412a-4647-a269-611340028d2e",
   "metadata": {},
   "outputs": [],
   "source": [
    "smooth_const = float(0.00000001)"
   ]
  },
  {
   "cell_type": "code",
   "execution_count": 192,
   "id": "cb18aa24-f44d-45b6-9b57-35e1191f31e0",
   "metadata": {},
   "outputs": [],
   "source": [
    "word_counter = Counter(train.word)\n",
    "tag_counter = Counter(train.tag)\n",
    "word_counters_by_tag = {}\n",
    "tag_counters_by_prev_tag = {}\n",
    "tag_set = set(train.tag)\n",
    "prev_tag_set = set(train.prev_tag)\n",
    "for T in tag_set:\n",
    "    t_subset = train[train.tag == T]\n",
    "    word_counters_by_tag[T] = Counter(t_subset.word)\n",
    "\n",
    "for Tprev in prev_tag_set:\n",
    "    tprev_subset = train[train.prev_tag == Tprev]\n",
    "    tag_counters_by_prev_tag[Tprev] = Counter(tprev_subset.tag)\n",
    "\n",
    "def Pt(T=''):\n",
    "    c = tag_counter[T]\n",
    "    return smooth_const if c == 0 else c / tag_counter.total()\n",
    "\n",
    "def Pw(W=''):\n",
    "    c = word_counter[W]\n",
    "    return smooth_const if c == 0 else c / word_counter.total()\n",
    "\n",
    "def Pwt(W='', T=''):\n",
    "    ctr = word_counters_by_tag[T]\n",
    "    if ctr == None:\n",
    "        return smooth_const\n",
    "    c = ctr[W]\n",
    "    return smooth_const if c == 0 else c / ctr.total()\n",
    "\n",
    "def Ptw(T='', W=''):\n",
    "    w = Pw(W=W)\n",
    "    # If W isn't found, the probably gets really high.\n",
    "    if w == smooth_const:\n",
    "        return smooth_const\n",
    "    return Pwt(W=W, T=T) * Pt(T=T) / w"
   ]
  },
  {
   "cell_type": "code",
   "execution_count": 174,
   "id": "35df9757-1167-4a05-a34e-c79d824eadf8",
   "metadata": {},
   "outputs": [
    {
     "data": {
      "text/plain": [
       "0.04354191954734162"
      ]
     },
     "execution_count": 174,
     "metadata": {},
     "output_type": "execute_result"
    }
   ],
   "source": [
    "Pw('the')"
   ]
  },
  {
   "cell_type": "code",
   "execution_count": 101,
   "id": "9928b65d-3dc3-40ad-8bd0-77b2c1cad692",
   "metadata": {},
   "outputs": [
    {
     "data": {
      "text/plain": [
       "0.08659736358612742"
      ]
     },
     "execution_count": 101,
     "metadata": {},
     "output_type": "execute_result"
    }
   ],
   "source": [
    "Pt(T='DT')"
   ]
  },
  {
   "cell_type": "code",
   "execution_count": 102,
   "id": "fc973e7b-3400-4cdb-a802-c162cd201094",
   "metadata": {},
   "outputs": [
    {
     "data": {
      "text/plain": [
       "0.5018816471229888"
      ]
     },
     "execution_count": 102,
     "metadata": {},
     "output_type": "execute_result"
    }
   ],
   "source": [
    "Pwt(\"the\", \"DT\")"
   ]
  },
  {
   "cell_type": "code",
   "execution_count": 175,
   "id": "378a5b78-d702-4275-bfa6-94bda3c4f2fe",
   "metadata": {},
   "outputs": [
    {
     "data": {
      "text/plain": [
       "0.9981559822106519"
      ]
     },
     "execution_count": 175,
     "metadata": {},
     "output_type": "execute_result"
    }
   ],
   "source": [
    "Ptw(\"DT\", \"the\")"
   ]
  },
  {
   "cell_type": "code",
   "execution_count": 104,
   "id": "0dd45064-e870-4e3a-b524-4a4621680d3a",
   "metadata": {},
   "outputs": [],
   "source": [
    "def Emit_greedy(W=''):\n",
    "    return max([(T, Ptw(T=T, W=W)) for T in tag_set], key=lambda x: x[1])"
   ]
  },
  {
   "cell_type": "markdown",
   "id": "4891920e-f968-403c-b87c-2aa3d039c875",
   "metadata": {},
   "source": [
    "### Emission Accuracy: 89.4%"
   ]
  },
  {
   "cell_type": "code",
   "execution_count": 105,
   "id": "7c537ef8-e1c0-4ee0-bad8-4d93c14aa6a8",
   "metadata": {},
   "outputs": [
    {
     "name": "stderr",
     "output_type": "stream",
     "text": [
      "100%|█████████████████████████████████████████████████████████████| 47377/47377 [01:36<00:00, 493.33it/s]\n"
     ]
    }
   ],
   "source": [
    "emission_results = [row.tag == Emit_greedy(W=row.word)[0] for (_index, row) in tqdm(test.iterrows(), total=len(test))]"
   ]
  },
  {
   "cell_type": "code",
   "execution_count": 106,
   "id": "14e22593-e8e8-4abe-8588-791705aa3bc1",
   "metadata": {},
   "outputs": [
    {
     "data": {
      "text/plain": [
       "0.8938725541929629"
      ]
     },
     "execution_count": 106,
     "metadata": {},
     "output_type": "execute_result"
    }
   ],
   "source": [
    "sum(emission_results) / len(emission_results)"
   ]
  },
  {
   "cell_type": "markdown",
   "id": "30aa73f7-6e55-44d0-98a5-5df676d5aeed",
   "metadata": {},
   "source": [
    "## Estimate Transition Probabilities\n",
    "$$P(T_{i+1}|T_i)=\\frac{\\text{\\# instances of tag and next tag}}{\\text{\\# instances of tag}}$$"
   ]
  },
  {
   "cell_type": "code",
   "execution_count": 165,
   "id": "0238207f-b297-4212-9ca2-a372b18cc8dd",
   "metadata": {},
   "outputs": [],
   "source": [
    "def Pt_tprev(T='', Tprev=''):\n",
    "    ctr = tag_counters_by_prev_tag[Tprev]\n",
    "    if ctr == None:\n",
    "        return smooth_const\n",
    "    c = ctr[T]\n",
    "    return smooth_const if c == 0 else c / ctr.total()"
   ]
  },
  {
   "cell_type": "code",
   "execution_count": 168,
   "id": "1b7641f7-0e91-45e9-b948-27b3411930a6",
   "metadata": {},
   "outputs": [
    {
     "data": {
      "text/plain": [
       "0.002615167974250654"
      ]
     },
     "execution_count": 168,
     "metadata": {},
     "output_type": "execute_result"
    }
   ],
   "source": [
    "Pt_tprev(T='DT', Tprev='NNP')"
   ]
  },
  {
   "cell_type": "code",
   "execution_count": 169,
   "id": "6e630ed2-7c38-434b-b6b7-3748b67ab11c",
   "metadata": {},
   "outputs": [
    {
     "data": {
      "text/plain": [
       "0.39011265338966"
      ]
     },
     "execution_count": 169,
     "metadata": {},
     "output_type": "execute_result"
    }
   ],
   "source": [
    "Pt_tprev(T='NNP', Tprev='NNP')"
   ]
  },
  {
   "cell_type": "markdown",
   "id": "056a0fd3-9dab-455a-9aed-0ec8280cf28b",
   "metadata": {},
   "source": [
    "### Transition Accuracy: 30.1%"
   ]
  },
  {
   "cell_type": "code",
   "execution_count": 196,
   "id": "2c887910-85a7-4682-bc35-d67f6f09b1d2",
   "metadata": {},
   "outputs": [],
   "source": [
    "def Trans_greedy(Tprev=''):\n",
    "    return max([(T, Pt_tprev(T=T, Tprev=Tprev)) for T in tag_set], key=lambda x: x[1])"
   ]
  },
  {
   "cell_type": "code",
   "execution_count": 197,
   "id": "86b9be1f-d74c-4811-b80d-29466ca34301",
   "metadata": {},
   "outputs": [
    {
     "name": "stderr",
     "output_type": "stream",
     "text": [
      "100%|███████████████████████████████████████████████████████████| 47377/47377 [00:01<00:00, 39773.53it/s]\n"
     ]
    }
   ],
   "source": [
    "transition_results = [row.tag == Trans_greedy(Tprev=row.prev_tag)[0] for (_index, row) in tqdm(test.iterrows(), total=len(test))]"
   ]
  },
  {
   "cell_type": "code",
   "execution_count": 198,
   "id": "31d28abb-1568-4b34-8075-4c511651fb42",
   "metadata": {},
   "outputs": [
    {
     "data": {
      "text/plain": [
       "0.30077885893999196"
      ]
     },
     "execution_count": 198,
     "metadata": {},
     "output_type": "execute_result"
    }
   ],
   "source": [
    "sum(transition_results) / len(transition_results)"
   ]
  },
  {
   "cell_type": "markdown",
   "id": "0012db5b-c67c-4228-a3cd-42f19729c6c3",
   "metadata": {},
   "source": [
    "### Emission & Transition Accuracy: 92.8%"
   ]
  },
  {
   "cell_type": "code",
   "execution_count": 210,
   "id": "6e3bec95-4e6f-4450-aa3e-bc10873d1c9d",
   "metadata": {},
   "outputs": [
    {
     "name": "stderr",
     "output_type": "stream",
     "text": [
      "100%|█████████████████████████████████████████████████████████████| 47377/47377 [01:43<00:00, 457.99it/s]\n"
     ]
    }
   ],
   "source": [
    "model_guesses = []\n",
    "def PEmitTrans(W='', T='', Tprev=''):\n",
    "    return Pt_tprev(T=T, Tprev=Tprev) * Ptw(T=T, W=W)\n",
    "\n",
    "for _i, row in tqdm(test.iterrows(), total=len(test)):\n",
    "    max_tag = max([(T, PEmitTrans(W=row.word, T=T, Tprev=row.prev_tag)) for T in tag_set], key=lambda x: x[1])\n",
    "    model_guesses.append((row.tag, max_tag[0]))"
   ]
  },
  {
   "cell_type": "code",
   "execution_count": 212,
   "id": "279f72c2-e450-42bd-899b-7448ad9f6fff",
   "metadata": {},
   "outputs": [
    {
     "data": {
      "text/plain": [
       "0.9279819321611753"
      ]
     },
     "execution_count": 212,
     "metadata": {},
     "output_type": "execute_result"
    }
   ],
   "source": [
    "sum([1 for x in model_guesses if x[0] == x[1]]) / len(model_guesses)"
   ]
  },
  {
   "cell_type": "markdown",
   "id": "4f55f2e4-4fe0-4fad-91a2-e75a3840e84e",
   "metadata": {},
   "source": [
    "## Confusion Matrix"
   ]
  },
  {
   "cell_type": "code",
   "execution_count": 213,
   "id": "1747e307-2488-4820-8705-d91065467282",
   "metadata": {},
   "outputs": [],
   "source": [
    "from sklearn.metrics import confusion_matrix, classification_report\n",
    "import seaborn as sns\n",
    "import matplotlib.pyplot as plt"
   ]
  },
  {
   "cell_type": "code",
   "execution_count": 225,
   "id": "9e537a22-b4c9-4e49-a36e-187385b7e3f3",
   "metadata": {},
   "outputs": [
    {
     "data": {
      "text/plain": [
       "array([[ 187,    0,    0, ...,    0,    0,    0],\n",
       "       [   0,    0,    0, ...,    0,    0,    0],\n",
       "       [   0,    0,    1, ...,    0,    0,    0],\n",
       "       ...,\n",
       "       [   0,    0,    0, ...,  827,    0,    0],\n",
       "       [   0,    0,    0, ...,    0,  869,    6],\n",
       "       [   0,    0,    0, ...,    1,    0, 1168]], shape=(44, 44))"
      ]
     },
     "execution_count": 225,
     "metadata": {},
     "output_type": "execute_result"
    }
   ],
   "source": [
    "true_pred_df = pd.DataFrame(model_guesses, columns=['true', 'pred'])\n",
    "mat = confusion_matrix(true_pred_df.true, true_pred_df.pred, labels=list(tag_set))\n",
    "mat"
   ]
  },
  {
   "cell_type": "code",
   "execution_count": 226,
   "id": "20e84d4f-9306-4a36-9887-159690923b9d",
   "metadata": {},
   "outputs": [
    {
     "data": {
      "image/png": "[encoded data removed]",
      "text/plain": [
       "<Figure size 640x480 with 2 Axes>"
      ]
     },
     "metadata": {},
     "output_type": "display_data"
    }
   ],
   "source": [
    "sns.heatmap(mat)\n",
    "plt.ylabel('Actual')\n",
    "plt.xlabel('Predicted')\n",
    "plt.show()"
   ]
  },
  {
   "cell_type": "code",
   "execution_count": 227,
   "id": "c69692b5-e213-4dd9-a405-ace3d888922a",
   "metadata": {},
   "outputs": [
    {
     "name": "stdout",
     "output_type": "stream",
     "text": [
      "              precision    recall  f1-score   support\n",
      "\n",
      "           #       1.00      0.82      0.90        11\n",
      "           $       1.00      0.99      1.00       384\n",
      "          ''       1.00      0.99      0.99       316\n",
      "           (       1.00      0.96      0.98        77\n",
      "           )       1.00      0.99      0.99        77\n",
      "           ,       1.00      1.00      1.00      2390\n",
      "           .       1.00      1.00      1.00      1975\n",
      "           :       1.00      1.00      1.00       238\n",
      "          CC       1.00      1.00      1.00      1214\n",
      "          CD       1.00      0.92      0.96      1918\n",
      "          DT       0.81      0.99      0.89      4020\n",
      "          EX       1.00      0.35      0.52        48\n",
      "          FW       1.00      0.75      0.86         4\n",
      "          IN       0.91      1.00      0.95      5071\n",
      "          JJ       0.94      0.81      0.87      2964\n",
      "         JJR       0.84      0.93      0.88       202\n",
      "         JJS       1.00      0.94      0.97        77\n",
      "          MD       1.00      0.99      0.99       470\n",
      "          NN       0.88      0.94      0.91      6642\n",
      "         NNP       0.93      0.88      0.90      4806\n",
      "        NNPS       0.91      0.32      0.47       130\n",
      "         NNS       0.98      0.88      0.93      3034\n",
      "         PDT       0.00      0.00      0.00        10\n",
      "         POS       0.99      0.99      0.99       434\n",
      "         PRP       0.95      1.00      0.97       814\n",
      "        PRP$       1.00      1.00      1.00       421\n",
      "          RB       0.93      0.86      0.90      1354\n",
      "         RBR       0.79      0.48      0.60        71\n",
      "         RBS       1.00      0.98      0.99        49\n",
      "          RP       0.00      0.00      0.00        12\n",
      "          TO       1.00      1.00      1.00      1178\n",
      "          UH       1.00      0.50      0.67         2\n",
      "          VB       0.92      0.93      0.92      1269\n",
      "         VBD       0.92      0.93      0.92      1679\n",
      "         VBG       0.99      0.75      0.85       728\n",
      "         VBN       0.91      0.79      0.85      1104\n",
      "         VBP       0.97      0.82      0.89       539\n",
      "         VBZ       0.96      0.91      0.93       913\n",
      "         WDT       1.00      0.53      0.69       202\n",
      "          WP       1.00      1.00      1.00       110\n",
      "         WP$       1.00      1.00      1.00         4\n",
      "         WRB       1.00      0.99      0.99        93\n",
      "          ``       1.00      1.00      1.00       323\n",
      "\n",
      "    accuracy                           0.93     47377\n",
      "   macro avg       0.92      0.83      0.86     47377\n",
      "weighted avg       0.93      0.93      0.93     47377\n",
      "\n"
     ]
    }
   ],
   "source": [
    "print(classification_report(true_pred_df.true, true_pred_df.pred, zero_division=0.0))"
   ]
  },
  {
   "cell_type": "markdown",
   "id": "17c85f39-d461-4788-94f5-5c090f882de4",
   "metadata": {},
   "source": [
    "## Mistakes my Tagger makes:\n",
    "Generally when the training data has a primary word (or words) occurring, the recall tends to drop off quite a bit. This is showing to be the case regardless of instances in the training data. Essentially, my model is giving low entropy to those tags due to the data favoring a given few words over the others. This results in a low recall, but a good percision.\n",
    "\n",
    "Specifically from the confusion matrix heatmap, you can see that there are some significantly accurate tags, but only a few in comparison to all the tags. This is, again, a side-effect of having more occurrences of some tags over other most of the others, resulting in lower entropy when we try to guess a given tag. I would be interested to see what would happen if we "
   ]
  },
  {
   "cell_type": "markdown",
   "id": "26193a5d-2624-4008-b1d2-78116d487ffa",
   "metadata": {},
   "source": [
    "## Tinkering: Not part of the assignment\n",
    "Removing the top tags in the training data from the guesses to saturate the heatmap."
   ]
  },
  {
   "cell_type": "code",
   "execution_count": 237,
   "id": "b5d2720d-209b-4d94-8a82-6081f53a0ed2",
   "metadata": {},
   "outputs": [
    {
     "data": {
      "text/plain": [
       "['NN', 'IN', 'NNP', 'DT', 'NNS', 'JJ', ',', '.', 'CD', 'VBD']"
      ]
     },
     "execution_count": 237,
     "metadata": {},
     "output_type": "execute_result"
    }
   ],
   "source": [
    "top_tags = [x[0] for x in tag_counter.most_common(10)]\n",
    "top_tags"
   ]
  },
  {
   "cell_type": "code",
   "execution_count": 238,
   "id": "c6ffd794-84ff-472b-b691-d79862bcb8b4",
   "metadata": {},
   "outputs": [],
   "source": [
    "trimmed_guesses = [x for x in model_guesses if x[0] not in top_tags]"
   ]
  },
  {
   "cell_type": "code",
   "execution_count": 239,
   "id": "ffec8a3c-f986-42a9-929a-4f159f60cca7",
   "metadata": {},
   "outputs": [
    {
     "data": {
      "text/plain": [
       "array([[ 187,    0,    0, ...,    0,    0,    0],\n",
       "       [   0,    0,    0, ...,    0,    0,    0],\n",
       "       [   0,    0,    1, ...,    0,    0,    0],\n",
       "       ...,\n",
       "       [   0,    0,    0, ...,  827,    0,    0],\n",
       "       [   0,    0,    0, ...,    0,  869,    6],\n",
       "       [   0,    0,    0, ...,    1,    0, 1168]], shape=(34, 34))"
      ]
     },
     "execution_count": 239,
     "metadata": {},
     "output_type": "execute_result"
    }
   ],
   "source": [
    "trimmed_df = pd.DataFrame(trimmed_guesses, columns=['true', 'pred'])\n",
    "trimmed_mat = confusion_matrix(\n",
    "    trimmed_df.true,\n",
    "    trimmed_df.pred,\n",
    "    labels=list([T for T in tag_set if T not in top_tags])\n",
    ")\n",
    "trimmed_mat"
   ]
  },
  {
   "cell_type": "code",
   "execution_count": 240,
   "id": "1c12b2e9-0271-4a9c-8737-cfcf54cd1455",
   "metadata": {},
   "outputs": [
    {
     "data": {
      "image/png": "[encoded data removed]",
      "text/plain": [
       "<Figure size 640x480 with 2 Axes>"
      ]
     },
     "metadata": {},
     "output_type": "display_data"
    }
   ],
   "source": [
    "sns.heatmap(trimmed_mat)\n",
    "plt.ylabel('Actual')\n",
    "plt.xlabel('Predicted')\n",
    "plt.show()"
   ]
  },
  {
   "cell_type": "markdown",
   "id": "080499d2-6f99-45c1-9664-23113d7aba85",
   "metadata": {},
   "source": [
    "Shows a bit more even, but still not perfect. It did seem to remove some outliers, despite increasing the heatmap sensitivity indicating that despite them being the more common tags, they still show quite a few mistakes, likely due to my observations above."
   ]
  },
  {
   "cell_type": "code",
   "execution_count": null,
   "id": "b2fe550d-c179-4fb2-9903-9632d16e8290",
   "metadata": {},
   "outputs": [],
   "source": []
  }
 ],
 "metadata": {
  "kernelspec": {
   "display_name": "Python 3 (ipykernel)",
   "language": "python",
   "name": "python3"
  },
  "language_info": {
   "codemirror_mode": {
    "name": "ipython",
    "version": 3
   },
   "file_extension": ".py",
   "mimetype": "text/x-python",
   "name": "python",
   "nbconvert_exporter": "python",
   "pygments_lexer": "ipython3",
   "version": "3.13.1"
  }
 },
 "nbformat": 4,
 "nbformat_minor": 5
}
